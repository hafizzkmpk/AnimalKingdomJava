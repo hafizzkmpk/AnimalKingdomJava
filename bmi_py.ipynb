{
  "nbformat": 4,
  "nbformat_minor": 0,
  "metadata": {
    "colab": {
      "provenance": [],
      "authorship_tag": "ABX9TyOQEgvqsfSdEmwQrhOedeVl",
      "include_colab_link": true
    },
    "kernelspec": {
      "name": "python3",
      "display_name": "Python 3"
    },
    "language_info": {
      "name": "python"
    }
  },
  "cells": [
    {
      "cell_type": "markdown",
      "metadata": {
        "id": "view-in-github",
        "colab_type": "text"
      },
      "source": [
        "<a href=\"https://colab.research.google.com/github/hafizzkmpk/AnimalKingdomJava/blob/master/bmi_py.ipynb\" target=\"_parent\"><img src=\"https://colab.research.google.com/assets/colab-badge.svg\" alt=\"Open In Colab\"/></a>"
      ]
    },
    {
      "cell_type": "code",
      "source": [
        "# usage block\n",
        "block_1 = 200\n",
        "block_2 = 300\n",
        "block_3 = 600\n",
        "block_4 = 900\n",
        "\n",
        "# price for usage block\n",
        "price_block_1 = 0.218\n",
        "price_block_2 = 0.334\n",
        "price_block_3 = 0.516\n",
        "price_block_4 = 0.546\n",
        "price_last= 0.571\n",
        "\n",
        "\n",
        "price_topay=0.0\n",
        "\n",
        "usage_block= int(input('Enter the usage block : '))\n",
        "\n",
        "if  usage_block<=block_1:\n",
        "  price_topay=usage_block*price_block_1\n",
        "\n",
        "elif usage_block<=block_2:\n",
        "  price_topay=block_1*price_block_1+(usage_block-block_1)*price_block_2\n",
        "\n",
        "elif usage_block<=block_3:\n",
        "  price_topay=block_1*price_block_1+block_2*price_block_2+(usage_block-block_2)*price_block_3\n",
        "\n",
        "elif usage_block<=block_4:\n",
        "  price_topay=block_1*price_block_1+block_2*price_block_2+block_2*price_block_2+(usage_block-block_3)*price_block_4\n",
        "\n",
        "else:\n",
        "  price_topay=block_1*price_block_1+block_2*price_block_2+block_2*price_block_2+block_4*price_block_4+(usage_block-block_4)*price_last\n",
        "\n",
        "print(f'Price to pay is {price_topay:.2f}')\n"
      ],
      "metadata": {
        "colab": {
          "base_uri": "https://localhost:8080/"
        },
        "id": "jFJNzRitqr3S",
        "outputId": "d1d52cdb-3410-42f1-87d3-0b5a57158e1e"
      },
      "execution_count": 3,
      "outputs": [
        {
          "output_type": "stream",
          "name": "stdout",
          "text": [
            "Enter the usage block : 300\n",
            "Price to pay is 77.00\n"
          ]
        }
      ]
    },
    {
      "cell_type": "markdown",
      "source": [
        "file: bmi.py\n",
        "\n",
        "input: weight, height\n",
        "\n",
        "process:\n",
        "\t1. Calculate BMI based on weight and height.\n",
        "\t2. Determine “Please reduce your weight” or “You have an ideal weight” based on BMI\n",
        "\n",
        "output: BMI, “Please reduce your weight” or “You have an ideal weight”"
      ],
      "metadata": {
        "id": "_eRWOCcOL_Pm"
      }
    },
    {
      "cell_type": "code",
      "source": [
        "weight = float(input('Enter weight in kg: '))\n",
        "\n",
        "height = float(input('Enter height in m: '))\n",
        "\n",
        "while height <=0 or weight<=0 :\n",
        "  print('Height and weight must be greater than 0')\n",
        "\n",
        "  height = float(input('Enter height in m: '))\n",
        "  if height<=0:\n",
        "    print('Height must be greater than 0')\n",
        "    height = float(input('Enter height in m: '))\n",
        "\n",
        "  if weight<=0:\n",
        "    print('Weight must be greater than 0')\n",
        "    weight = float(input('Enter weight in kg: '))\n",
        "\n",
        "bmi = weight/height**2\n",
        "\n",
        "\n",
        "\n",
        "if bmi<25.0 :\n",
        "  print(f'BMI is {bmi:.2f}')\n",
        "  print('You have an ideal weight')\n",
        "else:\n",
        "  print(f'BMI is {bmi:.2f}')\n",
        "  print('Please reduce your weight!')\n"
      ],
      "metadata": {
        "colab": {
          "base_uri": "https://localhost:8080/"
        },
        "id": "1ml81ZA8MCMD",
        "outputId": "9fdbe804-cabd-4fa4-d470-1a72ccf9e4e0"
      },
      "execution_count": null,
      "outputs": [
        {
          "output_type": "stream",
          "name": "stdout",
          "text": [
            "Enter weight in kg: 120\n",
            "Enter height in m: 1.72\n",
            "BMI is 40.56\n",
            "Please reduce your weight\n"
          ]
        }
      ]
    },
    {
      "cell_type": "code",
      "source": [
        "weight = 0.0\n",
        "\n",
        "height = 0.0\n",
        "\n",
        "while True:\n",
        "  if height<=0:\n",
        "    print('Height must be greater than 0')\n",
        "    height = float(input('Enter height in m: '))\n",
        "\n",
        "  if weight<=0:\n",
        "    print('Weight must be greater than 0')\n",
        "    weight = float(input('Enter weight in kg: '))\n",
        "\n",
        "  else:\n",
        "    break\n",
        "\n",
        "bmi = weight/height**2\n",
        "\n",
        "\n",
        "if bmi<25.0 :\n",
        "  print(f'BMI is {bmi:.2f}')\n",
        "  print('You have an ideal weight')\n",
        "else:\n",
        "  print(f'BMI is {bmi:.2f}')\n",
        "  print('Please reduce your weight!')"
      ],
      "metadata": {
        "colab": {
          "base_uri": "https://localhost:8080/"
        },
        "id": "27tE5hNqpSYl",
        "outputId": "e937195f-7a4a-4d22-c6db-886f905ceb67"
      },
      "execution_count": null,
      "outputs": [
        {
          "output_type": "stream",
          "name": "stdout",
          "text": [
            "Height must be greater than 0\n",
            "Enter height in m: 10\n",
            "Weight must be greater than 0\n",
            "Enter weight in kg: 10\n",
            "BMI is 0.10\n",
            "You have an ideal weight\n"
          ]
        }
      ]
    },
    {
      "cell_type": "code",
      "source": [
        "def bmi_status(weight=0.0, height=0.0):\n",
        "\n",
        "  bmi = weight/height**2\n",
        "\n",
        "  status='you have ideal weight'\n",
        "\n",
        "  if bmi>25.0 :\n",
        "    status='please reduce your weight'\n",
        "\n",
        "  return bmi,status"
      ],
      "metadata": {
        "id": "b8_Q1ON4YWGZ"
      },
      "execution_count": null,
      "outputs": []
    },
    {
      "cell_type": "code",
      "source": [
        "weight=float(input('Enter weight in kg: '))\n",
        "height=float(input('Enter height in m: '))\n",
        "\n",
        "bmi,status=bmi_status(weight=weight,height=height)\n",
        "print(f'{bmi:.2f}')\n",
        "print(status)"
      ],
      "metadata": {
        "colab": {
          "base_uri": "https://localhost:8080/"
        },
        "id": "i8g2rkf-Zt03",
        "outputId": "895464ec-b85f-4942-ac1f-ab790ba08e8c"
      },
      "execution_count": null,
      "outputs": [
        {
          "output_type": "stream",
          "name": "stdout",
          "text": [
            "Enter weight in kg: 100\n",
            "Enter height in m: 1.72\n",
            "33.80\n",
            "please reduce your weight\n"
          ]
        }
      ]
    },
    {
      "cell_type": "code",
      "source": [
        "print(bmi)\n",
        "print(status)"
      ],
      "metadata": {
        "colab": {
          "base_uri": "https://localhost:8080/"
        },
        "id": "RZQzSE5Rqb0f",
        "outputId": "f4220891-6e11-411e-9b2d-9693e161f830"
      },
      "execution_count": null,
      "outputs": [
        {
          "output_type": "stream",
          "name": "stdout",
          "text": [
            "33.802055164954034\n",
            "please reduce your weight\n"
          ]
        }
      ]
    }
  ]
}